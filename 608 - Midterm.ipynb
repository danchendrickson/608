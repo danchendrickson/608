{
 "metadata": {
  "language_info": {
   "codemirror_mode": {
    "name": "ipython",
    "version": 3
   },
   "file_extension": ".py",
   "mimetype": "text/x-python",
   "name": "python",
   "nbconvert_exporter": "python",
   "pygments_lexer": "ipython3",
   "version": "3.8.3-final"
  },
  "orig_nbformat": 2,
  "kernelspec": {
   "name": "python3",
   "display_name": "Python 3.8.3 64-bit (conda)",
   "metadata": {
    "interpreter": {
     "hash": "b3ba2566441a7c06988d0923437866b63cedc61552a5af99d1f4fb67d367b25f"
    }
   }
  }
 },
 "nbformat": 4,
 "nbformat_minor": 2,
 "cells": [
  {
   "source": [
    "\\begin{equation}\n",
    "\\gamma^2 y''+y=\\beta e^{\\alpha x}\n",
    "\\\\y''= \\frac{\\beta e^{\\alpha x} - y}{\\gamma^2}\n",
    "\\end{equation}\n"
   ],
   "cell_type": "markdown",
   "metadata": {}
  },
  {
   "cell_type": "code",
   "execution_count": 86,
   "metadata": {},
   "outputs": [],
   "source": [
    "import numpy as np\n",
    "import matplotlib.pyplot as plt"
   ]
  },
  {
   "cell_type": "code",
   "execution_count": 87,
   "metadata": {},
   "outputs": [],
   "source": [
    "#integration steps:\n",
    "n=100\n",
    "\n",
    "#Given variables:\n",
    "alpha = 1\n",
    "beta = 1\n",
    "gamma = 1\n",
    "\n",
    "x0 = 0\n",
    "xn = 3.0 * np.pi / 2.0\n",
    "y0 = 100 \n",
    "yn = 0\n",
    "\n",
    "#time step is the time range divided by the integration steps\n",
    "h = (xn-x0)/n"
   ]
  },
  {
   "cell_type": "code",
   "execution_count": 88,
   "metadata": {},
   "outputs": [],
   "source": [
    "A = np.zeros(shape=(n-1,n-1))\n",
    "u = np.zeros(shape=(n-1,1))\n",
    "b = np.zeros(shape=(n-1,1))"
   ]
  },
  {
   "cell_type": "code",
   "execution_count": 89,
   "metadata": {},
   "outputs": [],
   "source": [
    "for i in range(n-3):\n",
    "  j = i + 1\n",
    "  A[j,j-1]=1\n",
    "  A[j,j]=-(2-h**2)\n",
    "  A[j,j+1]=1\n",
    "  b[j]=h**2*beta*np.exp(alpha*j*h)\n",
    "\n",
    "A[0,0]= -(2 - h**2)\n",
    "A[0,1]=1\n",
    "A[n-2,n-2]=-(2-h**2)\n",
    "A[n-2,n-3] = 1\n",
    "\n",
    "b[0] = h**2 * beta * np.exp(alpha * x0 * h) - 100\n",
    "b[n-2] = h**2 * beta * np.exp(alpha * xn * h)"
   ]
  },
  {
   "cell_type": "code",
   "execution_count": 90,
   "metadata": {},
   "outputs": [],
   "source": [
    "u = np.linalg.inv(A)*b"
   ]
  },
  {
   "cell_type": "code",
   "execution_count": 91,
   "metadata": {},
   "outputs": [],
   "source": [
    "u2=[]\n",
    "u2.append(y0)\n",
    "for i in range(n-2):\n",
    "  u2.append(u[i,n-2])\n",
    "u2.append(yn)\n",
    "ticks = []\n",
    "for i in range(n):\n",
    "  ticks.append(i * h)"
   ]
  },
  {
   "cell_type": "code",
   "execution_count": 95,
   "metadata": {},
   "outputs": [],
   "source": [
    "truth = []\n",
    "for i in range(n):\n",
    "    truth.append( (1/2*np.exp(3*np.pi/2)-yn)*np.sin(i*h) + (y0-1/2)*np.cos(i*h) + 1/2*np.exp(i*h) )"
   ]
  },
  {
   "cell_type": "code",
   "execution_count": 96,
   "metadata": {},
   "outputs": [
    {
     "output_type": "display_data",
     "data": {
      "text/plain": "<Figure size 432x288 with 1 Axes>",
      "image/svg+xml": "<?xml version=\"1.0\" encoding=\"utf-8\" standalone=\"no\"?>\r\n<!DOCTYPE svg PUBLIC \"-//W3C//DTD SVG 1.1//EN\"\r\n  \"http://www.w3.org/Graphics/SVG/1.1/DTD/svg11.dtd\">\r\n<!-- Created with matplotlib (https://matplotlib.org/) -->\r\n<svg height=\"248.518125pt\" version=\"1.1\" viewBox=\"0 0 383.667187 248.518125\" width=\"383.667187pt\" xmlns=\"http://www.w3.org/2000/svg\" xmlns:xlink=\"http://www.w3.org/1999/xlink\">\r\n <defs>\r\n  <style type=\"text/css\">\r\n*{stroke-linecap:butt;stroke-linejoin:round;}\r\n  </style>\r\n </defs>\r\n <g id=\"figure_1\">\r\n  <g id=\"patch_1\">\r\n   <path d=\"M 0 248.518125 \r\nL 383.667187 248.518125 \r\nL 383.667187 0 \r\nL 0 0 \r\nz\r\n\" style=\"fill:none;\"/>\r\n  </g>\r\n  <g id=\"axes_1\">\r\n   <g id=\"patch_2\">\r\n    <path d=\"M 41.667188 224.64 \r\nL 376.467188 224.64 \r\nL 376.467188 7.2 \r\nL 41.667188 7.2 \r\nz\r\n\" style=\"fill:#ffffff;\"/>\r\n   </g>\r\n   <g id=\"matplotlib.axis_1\">\r\n    <g id=\"xtick_1\">\r\n     <g id=\"line2d_1\">\r\n      <defs>\r\n       <path d=\"M 0 0 \r\nL 0 3.5 \r\n\" id=\"me78ce77170\" style=\"stroke:#000000;stroke-width:0.8;\"/>\r\n      </defs>\r\n      <g>\r\n       <use style=\"stroke:#000000;stroke-width:0.8;\" x=\"56.885369\" xlink:href=\"#me78ce77170\" y=\"224.64\"/>\r\n      </g>\r\n     </g>\r\n     <g id=\"text_1\">\r\n      <!-- 0 -->\r\n      <defs>\r\n       <path d=\"M 31.78125 66.40625 \r\nQ 24.171875 66.40625 20.328125 58.90625 \r\nQ 16.5 51.421875 16.5 36.375 \r\nQ 16.5 21.390625 20.328125 13.890625 \r\nQ 24.171875 6.390625 31.78125 6.390625 \r\nQ 39.453125 6.390625 43.28125 13.890625 \r\nQ 47.125 21.390625 47.125 36.375 \r\nQ 47.125 51.421875 43.28125 58.90625 \r\nQ 39.453125 66.40625 31.78125 66.40625 \r\nz\r\nM 31.78125 74.21875 \r\nQ 44.046875 74.21875 50.515625 64.515625 \r\nQ 56.984375 54.828125 56.984375 36.375 \r\nQ 56.984375 17.96875 50.515625 8.265625 \r\nQ 44.046875 -1.421875 31.78125 -1.421875 \r\nQ 19.53125 -1.421875 13.0625 8.265625 \r\nQ 6.59375 17.96875 6.59375 36.375 \r\nQ 6.59375 54.828125 13.0625 64.515625 \r\nQ 19.53125 74.21875 31.78125 74.21875 \r\nz\r\n\" id=\"DejaVuSans-48\"/>\r\n      </defs>\r\n      <g transform=\"translate(53.704119 239.238437)scale(0.1 -0.1)\">\r\n       <use xlink:href=\"#DejaVuSans-48\"/>\r\n      </g>\r\n     </g>\r\n    </g>\r\n    <g id=\"xtick_2\">\r\n     <g id=\"line2d_2\">\r\n      <g>\r\n       <use style=\"stroke:#000000;stroke-width:0.8;\" x=\"122.125743\" xlink:href=\"#me78ce77170\" y=\"224.64\"/>\r\n      </g>\r\n     </g>\r\n     <g id=\"text_2\">\r\n      <!-- 1 -->\r\n      <defs>\r\n       <path d=\"M 12.40625 8.296875 \r\nL 28.515625 8.296875 \r\nL 28.515625 63.921875 \r\nL 10.984375 60.40625 \r\nL 10.984375 69.390625 \r\nL 28.421875 72.90625 \r\nL 38.28125 72.90625 \r\nL 38.28125 8.296875 \r\nL 54.390625 8.296875 \r\nL 54.390625 0 \r\nL 12.40625 0 \r\nz\r\n\" id=\"DejaVuSans-49\"/>\r\n      </defs>\r\n      <g transform=\"translate(118.944493 239.238437)scale(0.1 -0.1)\">\r\n       <use xlink:href=\"#DejaVuSans-49\"/>\r\n      </g>\r\n     </g>\r\n    </g>\r\n    <g id=\"xtick_3\">\r\n     <g id=\"line2d_3\">\r\n      <g>\r\n       <use style=\"stroke:#000000;stroke-width:0.8;\" x=\"187.366116\" xlink:href=\"#me78ce77170\" y=\"224.64\"/>\r\n      </g>\r\n     </g>\r\n     <g id=\"text_3\">\r\n      <!-- 2 -->\r\n      <defs>\r\n       <path d=\"M 19.1875 8.296875 \r\nL 53.609375 8.296875 \r\nL 53.609375 0 \r\nL 7.328125 0 \r\nL 7.328125 8.296875 \r\nQ 12.9375 14.109375 22.625 23.890625 \r\nQ 32.328125 33.6875 34.8125 36.53125 \r\nQ 39.546875 41.84375 41.421875 45.53125 \r\nQ 43.3125 49.21875 43.3125 52.78125 \r\nQ 43.3125 58.59375 39.234375 62.25 \r\nQ 35.15625 65.921875 28.609375 65.921875 \r\nQ 23.96875 65.921875 18.8125 64.3125 \r\nQ 13.671875 62.703125 7.8125 59.421875 \r\nL 7.8125 69.390625 \r\nQ 13.765625 71.78125 18.9375 73 \r\nQ 24.125 74.21875 28.421875 74.21875 \r\nQ 39.75 74.21875 46.484375 68.546875 \r\nQ 53.21875 62.890625 53.21875 53.421875 \r\nQ 53.21875 48.921875 51.53125 44.890625 \r\nQ 49.859375 40.875 45.40625 35.40625 \r\nQ 44.1875 33.984375 37.640625 27.21875 \r\nQ 31.109375 20.453125 19.1875 8.296875 \r\nz\r\n\" id=\"DejaVuSans-50\"/>\r\n      </defs>\r\n      <g transform=\"translate(184.184866 239.238437)scale(0.1 -0.1)\">\r\n       <use xlink:href=\"#DejaVuSans-50\"/>\r\n      </g>\r\n     </g>\r\n    </g>\r\n    <g id=\"xtick_4\">\r\n     <g id=\"line2d_4\">\r\n      <g>\r\n       <use style=\"stroke:#000000;stroke-width:0.8;\" x=\"252.606489\" xlink:href=\"#me78ce77170\" y=\"224.64\"/>\r\n      </g>\r\n     </g>\r\n     <g id=\"text_4\">\r\n      <!-- 3 -->\r\n      <defs>\r\n       <path d=\"M 40.578125 39.3125 \r\nQ 47.65625 37.796875 51.625 33 \r\nQ 55.609375 28.21875 55.609375 21.1875 \r\nQ 55.609375 10.40625 48.1875 4.484375 \r\nQ 40.765625 -1.421875 27.09375 -1.421875 \r\nQ 22.515625 -1.421875 17.65625 -0.515625 \r\nQ 12.796875 0.390625 7.625 2.203125 \r\nL 7.625 11.71875 \r\nQ 11.71875 9.328125 16.59375 8.109375 \r\nQ 21.484375 6.890625 26.8125 6.890625 \r\nQ 36.078125 6.890625 40.9375 10.546875 \r\nQ 45.796875 14.203125 45.796875 21.1875 \r\nQ 45.796875 27.640625 41.28125 31.265625 \r\nQ 36.765625 34.90625 28.71875 34.90625 \r\nL 20.21875 34.90625 \r\nL 20.21875 43.015625 \r\nL 29.109375 43.015625 \r\nQ 36.375 43.015625 40.234375 45.921875 \r\nQ 44.09375 48.828125 44.09375 54.296875 \r\nQ 44.09375 59.90625 40.109375 62.90625 \r\nQ 36.140625 65.921875 28.71875 65.921875 \r\nQ 24.65625 65.921875 20.015625 65.03125 \r\nQ 15.375 64.15625 9.8125 62.3125 \r\nL 9.8125 71.09375 \r\nQ 15.4375 72.65625 20.34375 73.4375 \r\nQ 25.25 74.21875 29.59375 74.21875 \r\nQ 40.828125 74.21875 47.359375 69.109375 \r\nQ 53.90625 64.015625 53.90625 55.328125 \r\nQ 53.90625 49.265625 50.4375 45.09375 \r\nQ 46.96875 40.921875 40.578125 39.3125 \r\nz\r\n\" id=\"DejaVuSans-51\"/>\r\n      </defs>\r\n      <g transform=\"translate(249.425239 239.238437)scale(0.1 -0.1)\">\r\n       <use xlink:href=\"#DejaVuSans-51\"/>\r\n      </g>\r\n     </g>\r\n    </g>\r\n    <g id=\"xtick_5\">\r\n     <g id=\"line2d_5\">\r\n      <g>\r\n       <use style=\"stroke:#000000;stroke-width:0.8;\" x=\"317.846863\" xlink:href=\"#me78ce77170\" y=\"224.64\"/>\r\n      </g>\r\n     </g>\r\n     <g id=\"text_5\">\r\n      <!-- 4 -->\r\n      <defs>\r\n       <path d=\"M 37.796875 64.3125 \r\nL 12.890625 25.390625 \r\nL 37.796875 25.390625 \r\nz\r\nM 35.203125 72.90625 \r\nL 47.609375 72.90625 \r\nL 47.609375 25.390625 \r\nL 58.015625 25.390625 \r\nL 58.015625 17.1875 \r\nL 47.609375 17.1875 \r\nL 47.609375 0 \r\nL 37.796875 0 \r\nL 37.796875 17.1875 \r\nL 4.890625 17.1875 \r\nL 4.890625 26.703125 \r\nz\r\n\" id=\"DejaVuSans-52\"/>\r\n      </defs>\r\n      <g transform=\"translate(314.665613 239.238437)scale(0.1 -0.1)\">\r\n       <use xlink:href=\"#DejaVuSans-52\"/>\r\n      </g>\r\n     </g>\r\n    </g>\r\n   </g>\r\n   <g id=\"matplotlib.axis_2\">\r\n    <g id=\"ytick_1\">\r\n     <g id=\"line2d_6\">\r\n      <defs>\r\n       <path d=\"M 0 0 \r\nL -3.5 0 \r\n\" id=\"m682c0d55a5\" style=\"stroke:#000000;stroke-width:0.8;\"/>\r\n      </defs>\r\n      <g>\r\n       <use style=\"stroke:#000000;stroke-width:0.8;\" x=\"41.667188\" xlink:href=\"#m682c0d55a5\" y=\"218.387313\"/>\r\n      </g>\r\n     </g>\r\n     <g id=\"text_6\">\r\n      <!-- −100 -->\r\n      <defs>\r\n       <path d=\"M 10.59375 35.5 \r\nL 73.1875 35.5 \r\nL 73.1875 27.203125 \r\nL 10.59375 27.203125 \r\nz\r\n\" id=\"DejaVuSans-8722\"/>\r\n      </defs>\r\n      <g transform=\"translate(7.2 222.186532)scale(0.1 -0.1)\">\r\n       <use xlink:href=\"#DejaVuSans-8722\"/>\r\n       <use x=\"83.789062\" xlink:href=\"#DejaVuSans-49\"/>\r\n       <use x=\"147.412109\" xlink:href=\"#DejaVuSans-48\"/>\r\n       <use x=\"211.035156\" xlink:href=\"#DejaVuSans-48\"/>\r\n      </g>\r\n     </g>\r\n    </g>\r\n    <g id=\"ytick_2\">\r\n     <g id=\"line2d_7\">\r\n      <g>\r\n       <use style=\"stroke:#000000;stroke-width:0.8;\" x=\"41.667188\" xlink:href=\"#m682c0d55a5\" y=\"171.538763\"/>\r\n      </g>\r\n     </g>\r\n     <g id=\"text_7\">\r\n      <!-- −50 -->\r\n      <defs>\r\n       <path d=\"M 10.796875 72.90625 \r\nL 49.515625 72.90625 \r\nL 49.515625 64.59375 \r\nL 19.828125 64.59375 \r\nL 19.828125 46.734375 \r\nQ 21.96875 47.46875 24.109375 47.828125 \r\nQ 26.265625 48.1875 28.421875 48.1875 \r\nQ 40.625 48.1875 47.75 41.5 \r\nQ 54.890625 34.8125 54.890625 23.390625 \r\nQ 54.890625 11.625 47.5625 5.09375 \r\nQ 40.234375 -1.421875 26.90625 -1.421875 \r\nQ 22.3125 -1.421875 17.546875 -0.640625 \r\nQ 12.796875 0.140625 7.71875 1.703125 \r\nL 7.71875 11.625 \r\nQ 12.109375 9.234375 16.796875 8.0625 \r\nQ 21.484375 6.890625 26.703125 6.890625 \r\nQ 35.15625 6.890625 40.078125 11.328125 \r\nQ 45.015625 15.765625 45.015625 23.390625 \r\nQ 45.015625 31 40.078125 35.4375 \r\nQ 35.15625 39.890625 26.703125 39.890625 \r\nQ 22.75 39.890625 18.8125 39.015625 \r\nQ 14.890625 38.140625 10.796875 36.28125 \r\nz\r\n\" id=\"DejaVuSans-53\"/>\r\n      </defs>\r\n      <g transform=\"translate(13.5625 175.337982)scale(0.1 -0.1)\">\r\n       <use xlink:href=\"#DejaVuSans-8722\"/>\r\n       <use x=\"83.789062\" xlink:href=\"#DejaVuSans-53\"/>\r\n       <use x=\"147.412109\" xlink:href=\"#DejaVuSans-48\"/>\r\n      </g>\r\n     </g>\r\n    </g>\r\n    <g id=\"ytick_3\">\r\n     <g id=\"line2d_8\">\r\n      <g>\r\n       <use style=\"stroke:#000000;stroke-width:0.8;\" x=\"41.667188\" xlink:href=\"#m682c0d55a5\" y=\"124.690213\"/>\r\n      </g>\r\n     </g>\r\n     <g id=\"text_8\">\r\n      <!-- 0 -->\r\n      <g transform=\"translate(28.304688 128.489432)scale(0.1 -0.1)\">\r\n       <use xlink:href=\"#DejaVuSans-48\"/>\r\n      </g>\r\n     </g>\r\n    </g>\r\n    <g id=\"ytick_4\">\r\n     <g id=\"line2d_9\">\r\n      <g>\r\n       <use style=\"stroke:#000000;stroke-width:0.8;\" x=\"41.667188\" xlink:href=\"#m682c0d55a5\" y=\"77.841664\"/>\r\n      </g>\r\n     </g>\r\n     <g id=\"text_9\">\r\n      <!-- 50 -->\r\n      <g transform=\"translate(21.942188 81.640882)scale(0.1 -0.1)\">\r\n       <use xlink:href=\"#DejaVuSans-53\"/>\r\n       <use x=\"63.623047\" xlink:href=\"#DejaVuSans-48\"/>\r\n      </g>\r\n     </g>\r\n    </g>\r\n    <g id=\"ytick_5\">\r\n     <g id=\"line2d_10\">\r\n      <g>\r\n       <use style=\"stroke:#000000;stroke-width:0.8;\" x=\"41.667188\" xlink:href=\"#m682c0d55a5\" y=\"30.993114\"/>\r\n      </g>\r\n     </g>\r\n     <g id=\"text_10\">\r\n      <!-- 100 -->\r\n      <g transform=\"translate(15.579688 34.792333)scale(0.1 -0.1)\">\r\n       <use xlink:href=\"#DejaVuSans-49\"/>\r\n       <use x=\"63.623047\" xlink:href=\"#DejaVuSans-48\"/>\r\n       <use x=\"127.246094\" xlink:href=\"#DejaVuSans-48\"/>\r\n      </g>\r\n     </g>\r\n    </g>\r\n   </g>\r\n   <g id=\"line2d_11\">\r\n    <path clip-path=\"url(#p66bda48480)\" d=\"M 56.885369 30.993114 \r\nL 59.959749 129.104262 \r\nL 63.03413 124.690008 \r\nL 66.10851 124.689891 \r\nL 69.18289 124.689764 \r\nL 72.25727 124.689627 \r\nL 75.33165 124.689479 \r\nL 78.40603 124.689319 \r\nL 81.480411 124.689148 \r\nL 84.554791 124.688965 \r\nL 87.629171 124.68877 \r\nL 90.703551 124.688562 \r\nL 93.777931 124.688341 \r\nL 96.852311 124.688107 \r\nL 99.926692 124.68786 \r\nL 103.001072 124.687599 \r\nL 106.075452 124.687325 \r\nL 109.149832 124.687037 \r\nL 112.224212 124.686736 \r\nL 115.298592 124.686421 \r\nL 118.372973 124.686092 \r\nL 121.447353 124.68575 \r\nL 124.521733 124.685395 \r\nL 127.596113 124.685028 \r\nL 130.670493 124.684648 \r\nL 133.744873 124.684257 \r\nL 136.819254 124.683854 \r\nL 139.893634 124.683442 \r\nL 142.968014 124.68302 \r\nL 146.042394 124.68259 \r\nL 149.116774 124.682153 \r\nL 152.191154 124.681711 \r\nL 155.265535 124.681264 \r\nL 158.339915 124.680815 \r\nL 161.414295 124.680365 \r\nL 164.488675 124.679917 \r\nL 167.563055 124.679472 \r\nL 170.637435 124.679033 \r\nL 173.711816 124.678603 \r\nL 176.786196 124.678185 \r\nL 179.860576 124.677781 \r\nL 182.934956 124.677395 \r\nL 186.009336 124.677031 \r\nL 189.083716 124.676692 \r\nL 192.158097 124.676383 \r\nL 195.232477 124.676107 \r\nL 198.306857 124.67587 \r\nL 201.381237 124.675676 \r\nL 204.455617 124.675531 \r\nL 207.529997 124.67544 \r\nL 210.604378 124.675408 \r\nL 213.678758 124.675443 \r\nL 216.753138 124.675549 \r\nL 219.827518 124.675734 \r\nL 222.901898 124.676005 \r\nL 225.976278 124.676369 \r\nL 229.050659 124.676834 \r\nL 232.125039 124.677406 \r\nL 235.199419 124.678095 \r\nL 238.273799 124.678908 \r\nL 241.348179 124.679855 \r\nL 244.422559 124.680943 \r\nL 247.49694 124.682181 \r\nL 250.57132 124.68358 \r\nL 253.6457 124.685148 \r\nL 256.72008 124.686894 \r\nL 259.79446 124.688828 \r\nL 262.86884 124.69096 \r\nL 265.943221 124.693299 \r\nL 269.017601 124.695855 \r\nL 272.091981 124.698637 \r\nL 275.166361 124.701655 \r\nL 278.240741 124.704918 \r\nL 281.315121 124.708435 \r\nL 284.389502 124.712215 \r\nL 287.463882 124.716266 \r\nL 290.538262 124.720596 \r\nL 293.612642 124.725212 \r\nL 296.687022 124.730122 \r\nL 299.761402 124.735331 \r\nL 302.835783 124.740845 \r\nL 305.910163 124.746668 \r\nL 308.984543 124.752804 \r\nL 312.058923 124.759255 \r\nL 315.133303 124.766021 \r\nL 318.207683 124.773104 \r\nL 321.282064 124.780501 \r\nL 324.356444 124.788208 \r\nL 327.430824 124.796221 \r\nL 330.505204 124.804532 \r\nL 333.579584 124.813132 \r\nL 336.653964 124.82201 \r\nL 339.728345 124.831152 \r\nL 342.802725 124.840541 \r\nL 345.877105 124.850158 \r\nL 348.951485 124.859981 \r\nL 352.025865 124.869984 \r\nL 355.100245 124.880138 \r\nL 358.174626 124.890412 \r\nL 361.249006 124.690213 \r\n\" style=\"fill:none;stroke:#ff0000;stroke-linecap:square;stroke-width:1.5;\"/>\r\n   </g>\r\n   <g id=\"line2d_12\">\r\n    <path clip-path=\"url(#p66bda48480)\" d=\"M 56.885369 30.993114 \r\nL 59.959749 28.617367 \r\nL 63.03413 26.452744 \r\nL 66.10851 24.503947 \r\nL 69.18289 22.775191 \r\nL 72.25727 21.270201 \r\nL 75.33165 19.992195 \r\nL 78.40603 18.943884 \r\nL 81.480411 18.127462 \r\nL 84.554791 17.544604 \r\nL 87.629171 17.196455 \r\nL 90.703551 17.083636 \r\nL 93.777931 17.206237 \r\nL 96.852311 17.563816 \r\nL 99.926692 18.155404 \r\nL 103.001072 18.9795 \r\nL 106.075452 20.034082 \r\nL 109.149832 21.316605 \r\nL 112.224212 22.824007 \r\nL 115.298592 24.552717 \r\nL 118.372973 26.498665 \r\nL 121.447353 28.657282 \r\nL 124.521733 31.023519 \r\nL 127.596113 33.591852 \r\nL 130.670493 36.356295 \r\nL 133.744873 39.310414 \r\nL 136.819254 42.44734 \r\nL 139.893634 45.75978 \r\nL 142.968014 49.24004 \r\nL 146.042394 52.880033 \r\nL 149.116774 56.671302 \r\nL 152.191154 60.605036 \r\nL 155.265535 64.672088 \r\nL 158.339915 68.862996 \r\nL 161.414295 73.168001 \r\nL 164.488675 77.577069 \r\nL 167.563055 82.079914 \r\nL 170.637435 86.666015 \r\nL 173.711816 91.324642 \r\nL 176.786196 96.044877 \r\nL 179.860576 100.81564 \r\nL 182.934956 105.625707 \r\nL 186.009336 110.463737 \r\nL 189.083716 115.318296 \r\nL 192.158097 120.177877 \r\nL 195.232477 125.030932 \r\nL 198.306857 129.865885 \r\nL 201.381237 134.671165 \r\nL 204.455617 139.435227 \r\nL 207.529997 144.146573 \r\nL 210.604378 148.793778 \r\nL 213.678758 153.365514 \r\nL 216.753138 157.850573 \r\nL 219.827518 162.237884 \r\nL 222.901898 166.516544 \r\nL 225.976278 170.675832 \r\nL 229.050659 174.705235 \r\nL 232.125039 178.594466 \r\nL 235.199419 182.333484 \r\nL 238.273799 185.912515 \r\nL 241.348179 189.322068 \r\nL 244.422559 192.552955 \r\nL 247.49694 195.596304 \r\nL 250.57132 198.44358 \r\nL 253.6457 201.086597 \r\nL 256.72008 203.517532 \r\nL 259.79446 205.728939 \r\nL 262.86884 207.71376 \r\nL 265.943221 209.465337 \r\nL 269.017601 210.977421 \r\nL 272.091981 212.244181 \r\nL 275.166361 213.26021 \r\nL 278.240741 214.020536 \r\nL 281.315121 214.520619 \r\nL 284.389502 214.756364 \r\nL 287.463882 214.724114 \r\nL 290.538262 214.420659 \r\nL 293.612642 213.843233 \r\nL 296.687022 212.989511 \r\nL 299.761402 211.857606 \r\nL 302.835783 210.446071 \r\nL 305.910163 208.753883 \r\nL 308.984543 206.780445 \r\nL 312.058923 204.525574 \r\nL 315.133303 201.98949 \r\nL 318.207683 199.172809 \r\nL 321.282064 196.076526 \r\nL 324.356444 192.702003 \r\nL 327.430824 189.050955 \r\nL 330.505204 185.125432 \r\nL 333.579584 180.9278 \r\nL 336.653964 176.460724 \r\nL 339.728345 171.727145 \r\nL 342.802725 166.73026 \r\nL 345.877105 161.473497 \r\nL 348.951485 155.960493 \r\nL 352.025865 150.195064 \r\nL 355.100245 144.18118 \r\nL 358.174626 137.922938 \r\nL 361.249006 131.42453 \r\n\" style=\"fill:none;stroke:#0000ff;stroke-linecap:square;stroke-width:1.5;\"/>\r\n   </g>\r\n   <g id=\"patch_3\">\r\n    <path d=\"M 41.667188 224.64 \r\nL 41.667188 7.2 \r\n\" style=\"fill:none;stroke:#000000;stroke-linecap:square;stroke-linejoin:miter;stroke-width:0.8;\"/>\r\n   </g>\r\n   <g id=\"patch_4\">\r\n    <path d=\"M 376.467188 224.64 \r\nL 376.467188 7.2 \r\n\" style=\"fill:none;stroke:#000000;stroke-linecap:square;stroke-linejoin:miter;stroke-width:0.8;\"/>\r\n   </g>\r\n   <g id=\"patch_5\">\r\n    <path d=\"M 41.667188 224.64 \r\nL 376.467187 224.64 \r\n\" style=\"fill:none;stroke:#000000;stroke-linecap:square;stroke-linejoin:miter;stroke-width:0.8;\"/>\r\n   </g>\r\n   <g id=\"patch_6\">\r\n    <path d=\"M 41.667188 7.2 \r\nL 376.467187 7.2 \r\n\" style=\"fill:none;stroke:#000000;stroke-linecap:square;stroke-linejoin:miter;stroke-width:0.8;\"/>\r\n   </g>\r\n  </g>\r\n </g>\r\n <defs>\r\n  <clipPath id=\"p66bda48480\">\r\n   <rect height=\"217.44\" width=\"334.8\" x=\"41.667188\" y=\"7.2\"/>\r\n  </clipPath>\r\n </defs>\r\n</svg>\r\n",
      "image/png": "[encoded data removed]"
     },
     "metadata": {
      "needs_background": "light"
     }
    }
   ],
   "source": [
    "fig = plt.figure()\n",
    "plt.plot(ticks,u2,color='red')\n",
    "plt.plot(ticks,truth,color='blue')\n",
    "plt.show()"
   ]
  }
 ]
}